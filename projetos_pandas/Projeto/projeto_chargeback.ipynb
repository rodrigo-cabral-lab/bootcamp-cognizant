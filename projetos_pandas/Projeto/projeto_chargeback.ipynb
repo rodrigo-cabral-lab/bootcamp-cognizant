{
 "cells": [
  {
   "cell_type": "markdown",
   "id": "123eda8c",
   "metadata": {},
   "source": [
    "# Análise de chargeback"
   ]
  },
  {
   "cell_type": "code",
   "execution_count": 3,
   "id": "d15cc91b-096c-498a-931c-eaef8c16f709",
   "metadata": {},
   "outputs": [],
   "source": [
    "#importante bibliotecas\n",
    "import pandas as pd\n",
    "import numpy as np\n",
    "import seaborn as sns\n",
    "import matplotlib.pyplot as plt\n",
    "plt.style.use('seaborn')"
   ]
  },
  {
   "cell_type": "code",
   "execution_count": 4,
   "id": "8bf00437-d789-4ed2-9faf-f5d9e9188fde",
   "metadata": {},
   "outputs": [
    {
     "data": {
      "text/html": [
       "<div>\n",
       "<style scoped>\n",
       "    .dataframe tbody tr th:only-of-type {\n",
       "        vertical-align: middle;\n",
       "    }\n",
       "\n",
       "    .dataframe tbody tr th {\n",
       "        vertical-align: top;\n",
       "    }\n",
       "\n",
       "    .dataframe thead th {\n",
       "        text-align: right;\n",
       "    }\n",
       "</style>\n",
       "<table border=\"1\" class=\"dataframe\">\n",
       "  <thead>\n",
       "    <tr style=\"text-align: right;\">\n",
       "      <th></th>\n",
       "      <th>transaction_id</th>\n",
       "      <th>merchant_id</th>\n",
       "      <th>user_id</th>\n",
       "      <th>card_number</th>\n",
       "      <th>transaction_date</th>\n",
       "      <th>transaction_amount</th>\n",
       "      <th>device_id</th>\n",
       "      <th>has_cbk</th>\n",
       "    </tr>\n",
       "  </thead>\n",
       "  <tbody>\n",
       "    <tr>\n",
       "      <th>0</th>\n",
       "      <td>21320398</td>\n",
       "      <td>29744</td>\n",
       "      <td>97051</td>\n",
       "      <td>434505******9116</td>\n",
       "      <td>2019-12-01 23:16:32.812632</td>\n",
       "      <td>374.56</td>\n",
       "      <td>285475.0</td>\n",
       "      <td>False</td>\n",
       "    </tr>\n",
       "    <tr>\n",
       "      <th>1</th>\n",
       "      <td>21320399</td>\n",
       "      <td>92895</td>\n",
       "      <td>2708</td>\n",
       "      <td>444456******4210</td>\n",
       "      <td>2019-12-01 22:45:37.873639</td>\n",
       "      <td>734.87</td>\n",
       "      <td>497105.0</td>\n",
       "      <td>True</td>\n",
       "    </tr>\n",
       "    <tr>\n",
       "      <th>2</th>\n",
       "      <td>21320400</td>\n",
       "      <td>47759</td>\n",
       "      <td>14777</td>\n",
       "      <td>425850******7024</td>\n",
       "      <td>2019-12-01 22:22:43.021495</td>\n",
       "      <td>760.36</td>\n",
       "      <td>NaN</td>\n",
       "      <td>False</td>\n",
       "    </tr>\n",
       "    <tr>\n",
       "      <th>3</th>\n",
       "      <td>21320401</td>\n",
       "      <td>68657</td>\n",
       "      <td>69758</td>\n",
       "      <td>464296******3991</td>\n",
       "      <td>2019-12-01 21:59:19.797129</td>\n",
       "      <td>2556.13</td>\n",
       "      <td>NaN</td>\n",
       "      <td>True</td>\n",
       "    </tr>\n",
       "    <tr>\n",
       "      <th>4</th>\n",
       "      <td>21320402</td>\n",
       "      <td>54075</td>\n",
       "      <td>64367</td>\n",
       "      <td>650487******6116</td>\n",
       "      <td>2019-12-01 21:30:53.347051</td>\n",
       "      <td>55.36</td>\n",
       "      <td>860232.0</td>\n",
       "      <td>False</td>\n",
       "    </tr>\n",
       "    <tr>\n",
       "      <th>...</th>\n",
       "      <td>...</td>\n",
       "      <td>...</td>\n",
       "      <td>...</td>\n",
       "      <td>...</td>\n",
       "      <td>...</td>\n",
       "      <td>...</td>\n",
       "      <td>...</td>\n",
       "      <td>...</td>\n",
       "    </tr>\n",
       "    <tr>\n",
       "      <th>3194</th>\n",
       "      <td>21323592</td>\n",
       "      <td>50493</td>\n",
       "      <td>49581</td>\n",
       "      <td>650486******4139</td>\n",
       "      <td>2019-11-01 13:05:34.054967</td>\n",
       "      <td>744.15</td>\n",
       "      <td>NaN</td>\n",
       "      <td>False</td>\n",
       "    </tr>\n",
       "    <tr>\n",
       "      <th>3195</th>\n",
       "      <td>21323593</td>\n",
       "      <td>9603</td>\n",
       "      <td>59275</td>\n",
       "      <td>528052******3611</td>\n",
       "      <td>2019-11-01 11:47:02.404963</td>\n",
       "      <td>1403.67</td>\n",
       "      <td>NaN</td>\n",
       "      <td>False</td>\n",
       "    </tr>\n",
       "    <tr>\n",
       "      <th>3196</th>\n",
       "      <td>21323594</td>\n",
       "      <td>57997</td>\n",
       "      <td>84486</td>\n",
       "      <td>522688******9874</td>\n",
       "      <td>2019-11-01 10:23:50.555604</td>\n",
       "      <td>1.55</td>\n",
       "      <td>NaN</td>\n",
       "      <td>False</td>\n",
       "    </tr>\n",
       "    <tr>\n",
       "      <th>3197</th>\n",
       "      <td>21323595</td>\n",
       "      <td>35930</td>\n",
       "      <td>7</td>\n",
       "      <td>544315******7773</td>\n",
       "      <td>2019-11-01 01:29:45.799767</td>\n",
       "      <td>359.68</td>\n",
       "      <td>NaN</td>\n",
       "      <td>False</td>\n",
       "    </tr>\n",
       "    <tr>\n",
       "      <th>3198</th>\n",
       "      <td>21323596</td>\n",
       "      <td>17348</td>\n",
       "      <td>8</td>\n",
       "      <td>650487******9884</td>\n",
       "      <td>2019-11-01 01:27:15.811098</td>\n",
       "      <td>2416.70</td>\n",
       "      <td>NaN</td>\n",
       "      <td>False</td>\n",
       "    </tr>\n",
       "  </tbody>\n",
       "</table>\n",
       "<p>3199 rows × 8 columns</p>\n",
       "</div>"
      ],
      "text/plain": [
       "      transaction_id  merchant_id  user_id       card_number  \\\n",
       "0           21320398        29744    97051  434505******9116   \n",
       "1           21320399        92895     2708  444456******4210   \n",
       "2           21320400        47759    14777  425850******7024   \n",
       "3           21320401        68657    69758  464296******3991   \n",
       "4           21320402        54075    64367  650487******6116   \n",
       "...              ...          ...      ...               ...   \n",
       "3194        21323592        50493    49581  650486******4139   \n",
       "3195        21323593         9603    59275  528052******3611   \n",
       "3196        21323594        57997    84486  522688******9874   \n",
       "3197        21323595        35930        7  544315******7773   \n",
       "3198        21323596        17348        8  650487******9884   \n",
       "\n",
       "               transaction_date  transaction_amount  device_id  has_cbk  \n",
       "0    2019-12-01 23:16:32.812632              374.56   285475.0    False  \n",
       "1    2019-12-01 22:45:37.873639              734.87   497105.0     True  \n",
       "2    2019-12-01 22:22:43.021495              760.36        NaN    False  \n",
       "3    2019-12-01 21:59:19.797129             2556.13        NaN     True  \n",
       "4    2019-12-01 21:30:53.347051               55.36   860232.0    False  \n",
       "...                         ...                 ...        ...      ...  \n",
       "3194 2019-11-01 13:05:34.054967              744.15        NaN    False  \n",
       "3195 2019-11-01 11:47:02.404963             1403.67        NaN    False  \n",
       "3196 2019-11-01 10:23:50.555604                1.55        NaN    False  \n",
       "3197 2019-11-01 01:29:45.799767              359.68        NaN    False  \n",
       "3198 2019-11-01 01:27:15.811098             2416.70        NaN    False  \n",
       "\n",
       "[3199 rows x 8 columns]"
      ]
     },
     "execution_count": 4,
     "metadata": {},
     "output_type": "execute_result"
    }
   ],
   "source": [
    "#lendo o csv como dataframe\n",
    "df=pd.read_csv('transactional-sample.csv', sep=',', parse_dates=['transaction_date'])\n",
    "df"
   ]
  },
  {
   "cell_type": "code",
   "execution_count": 5,
   "id": "8df70c77-3cd7-4003-beb2-5c5b125b7bcb",
   "metadata": {},
   "outputs": [
    {
     "name": "stderr",
     "output_type": "stream",
     "text": [
      "<ipython-input-5-4b21fdc34605>:3: FutureWarning: The default value of regex will change from True to False in a future version.\n",
      "  df['card_number'] = df['card_number'].str.replace(r'\\D', '')\n"
     ]
    },
    {
     "data": {
      "text/html": [
       "<div>\n",
       "<style scoped>\n",
       "    .dataframe tbody tr th:only-of-type {\n",
       "        vertical-align: middle;\n",
       "    }\n",
       "\n",
       "    .dataframe tbody tr th {\n",
       "        vertical-align: top;\n",
       "    }\n",
       "\n",
       "    .dataframe thead th {\n",
       "        text-align: right;\n",
       "    }\n",
       "</style>\n",
       "<table border=\"1\" class=\"dataframe\">\n",
       "  <thead>\n",
       "    <tr style=\"text-align: right;\">\n",
       "      <th></th>\n",
       "      <th>transaction_id</th>\n",
       "      <th>merchant_id</th>\n",
       "      <th>user_id</th>\n",
       "      <th>card_number</th>\n",
       "      <th>transaction_date</th>\n",
       "      <th>transaction_amount</th>\n",
       "      <th>device_id</th>\n",
       "      <th>has_cbk</th>\n",
       "      <th>week_day</th>\n",
       "    </tr>\n",
       "  </thead>\n",
       "  <tbody>\n",
       "    <tr>\n",
       "      <th>0</th>\n",
       "      <td>21320398</td>\n",
       "      <td>29744</td>\n",
       "      <td>97051</td>\n",
       "      <td>4345059116</td>\n",
       "      <td>2019-12-01 23:16:32.812632</td>\n",
       "      <td>374.56</td>\n",
       "      <td>285475.0</td>\n",
       "      <td>False</td>\n",
       "      <td>Sunday</td>\n",
       "    </tr>\n",
       "    <tr>\n",
       "      <th>1</th>\n",
       "      <td>21320399</td>\n",
       "      <td>92895</td>\n",
       "      <td>2708</td>\n",
       "      <td>4444564210</td>\n",
       "      <td>2019-12-01 22:45:37.873639</td>\n",
       "      <td>734.87</td>\n",
       "      <td>497105.0</td>\n",
       "      <td>True</td>\n",
       "      <td>Sunday</td>\n",
       "    </tr>\n",
       "    <tr>\n",
       "      <th>2</th>\n",
       "      <td>21320400</td>\n",
       "      <td>47759</td>\n",
       "      <td>14777</td>\n",
       "      <td>4258507024</td>\n",
       "      <td>2019-12-01 22:22:43.021495</td>\n",
       "      <td>760.36</td>\n",
       "      <td>NaN</td>\n",
       "      <td>False</td>\n",
       "      <td>Sunday</td>\n",
       "    </tr>\n",
       "    <tr>\n",
       "      <th>3</th>\n",
       "      <td>21320401</td>\n",
       "      <td>68657</td>\n",
       "      <td>69758</td>\n",
       "      <td>4642963991</td>\n",
       "      <td>2019-12-01 21:59:19.797129</td>\n",
       "      <td>2556.13</td>\n",
       "      <td>NaN</td>\n",
       "      <td>True</td>\n",
       "      <td>Sunday</td>\n",
       "    </tr>\n",
       "    <tr>\n",
       "      <th>4</th>\n",
       "      <td>21320402</td>\n",
       "      <td>54075</td>\n",
       "      <td>64367</td>\n",
       "      <td>6504876116</td>\n",
       "      <td>2019-12-01 21:30:53.347051</td>\n",
       "      <td>55.36</td>\n",
       "      <td>860232.0</td>\n",
       "      <td>False</td>\n",
       "      <td>Sunday</td>\n",
       "    </tr>\n",
       "    <tr>\n",
       "      <th>...</th>\n",
       "      <td>...</td>\n",
       "      <td>...</td>\n",
       "      <td>...</td>\n",
       "      <td>...</td>\n",
       "      <td>...</td>\n",
       "      <td>...</td>\n",
       "      <td>...</td>\n",
       "      <td>...</td>\n",
       "      <td>...</td>\n",
       "    </tr>\n",
       "    <tr>\n",
       "      <th>3194</th>\n",
       "      <td>21323592</td>\n",
       "      <td>50493</td>\n",
       "      <td>49581</td>\n",
       "      <td>6504864139</td>\n",
       "      <td>2019-11-01 13:05:34.054967</td>\n",
       "      <td>744.15</td>\n",
       "      <td>NaN</td>\n",
       "      <td>False</td>\n",
       "      <td>Friday</td>\n",
       "    </tr>\n",
       "    <tr>\n",
       "      <th>3195</th>\n",
       "      <td>21323593</td>\n",
       "      <td>9603</td>\n",
       "      <td>59275</td>\n",
       "      <td>5280523611</td>\n",
       "      <td>2019-11-01 11:47:02.404963</td>\n",
       "      <td>1403.67</td>\n",
       "      <td>NaN</td>\n",
       "      <td>False</td>\n",
       "      <td>Friday</td>\n",
       "    </tr>\n",
       "    <tr>\n",
       "      <th>3196</th>\n",
       "      <td>21323594</td>\n",
       "      <td>57997</td>\n",
       "      <td>84486</td>\n",
       "      <td>5226889874</td>\n",
       "      <td>2019-11-01 10:23:50.555604</td>\n",
       "      <td>1.55</td>\n",
       "      <td>NaN</td>\n",
       "      <td>False</td>\n",
       "      <td>Friday</td>\n",
       "    </tr>\n",
       "    <tr>\n",
       "      <th>3197</th>\n",
       "      <td>21323595</td>\n",
       "      <td>35930</td>\n",
       "      <td>7</td>\n",
       "      <td>5443157773</td>\n",
       "      <td>2019-11-01 01:29:45.799767</td>\n",
       "      <td>359.68</td>\n",
       "      <td>NaN</td>\n",
       "      <td>False</td>\n",
       "      <td>Friday</td>\n",
       "    </tr>\n",
       "    <tr>\n",
       "      <th>3198</th>\n",
       "      <td>21323596</td>\n",
       "      <td>17348</td>\n",
       "      <td>8</td>\n",
       "      <td>6504879884</td>\n",
       "      <td>2019-11-01 01:27:15.811098</td>\n",
       "      <td>2416.70</td>\n",
       "      <td>NaN</td>\n",
       "      <td>False</td>\n",
       "      <td>Friday</td>\n",
       "    </tr>\n",
       "  </tbody>\n",
       "</table>\n",
       "<p>3199 rows × 9 columns</p>\n",
       "</div>"
      ],
      "text/plain": [
       "      transaction_id  merchant_id  user_id card_number  \\\n",
       "0           21320398        29744    97051  4345059116   \n",
       "1           21320399        92895     2708  4444564210   \n",
       "2           21320400        47759    14777  4258507024   \n",
       "3           21320401        68657    69758  4642963991   \n",
       "4           21320402        54075    64367  6504876116   \n",
       "...              ...          ...      ...         ...   \n",
       "3194        21323592        50493    49581  6504864139   \n",
       "3195        21323593         9603    59275  5280523611   \n",
       "3196        21323594        57997    84486  5226889874   \n",
       "3197        21323595        35930        7  5443157773   \n",
       "3198        21323596        17348        8  6504879884   \n",
       "\n",
       "               transaction_date  transaction_amount  device_id has_cbk  \\\n",
       "0    2019-12-01 23:16:32.812632              374.56   285475.0   False   \n",
       "1    2019-12-01 22:45:37.873639              734.87   497105.0    True   \n",
       "2    2019-12-01 22:22:43.021495              760.36        NaN   False   \n",
       "3    2019-12-01 21:59:19.797129             2556.13        NaN    True   \n",
       "4    2019-12-01 21:30:53.347051               55.36   860232.0   False   \n",
       "...                         ...                 ...        ...     ...   \n",
       "3194 2019-11-01 13:05:34.054967              744.15        NaN   False   \n",
       "3195 2019-11-01 11:47:02.404963             1403.67        NaN   False   \n",
       "3196 2019-11-01 10:23:50.555604                1.55        NaN   False   \n",
       "3197 2019-11-01 01:29:45.799767              359.68        NaN   False   \n",
       "3198 2019-11-01 01:27:15.811098             2416.70        NaN   False   \n",
       "\n",
       "     week_day  \n",
       "0      Sunday  \n",
       "1      Sunday  \n",
       "2      Sunday  \n",
       "3      Sunday  \n",
       "4      Sunday  \n",
       "...       ...  \n",
       "3194   Friday  \n",
       "3195   Friday  \n",
       "3196   Friday  \n",
       "3197   Friday  \n",
       "3198   Friday  \n",
       "\n",
       "[3199 rows x 9 columns]"
      ]
     },
     "execution_count": 5,
     "metadata": {},
     "output_type": "execute_result"
    }
   ],
   "source": [
    "#validando os dados\n",
    "df['card_number']=df['card_number'].astype('string')\n",
    "df['card_number'] = df['card_number'].str.replace(r'\\D', '')\n",
    "df['has_cbk']=df['has_cbk'].astype('string')\n",
    "df['week_day'] = df['transaction_date'].dt.day_name()\n",
    "df"
   ]
  },
  {
   "cell_type": "code",
   "execution_count": 6,
   "id": "9093dfc0-401e-48d0-aad9-5af71985160a",
   "metadata": {},
   "outputs": [
    {
     "data": {
      "text/plain": [
       "transaction_id                 int64\n",
       "merchant_id                    int64\n",
       "user_id                        int64\n",
       "card_number                   string\n",
       "transaction_date      datetime64[ns]\n",
       "transaction_amount           float64\n",
       "device_id                    float64\n",
       "has_cbk                       string\n",
       "week_day                      object\n",
       "dtype: object"
      ]
     },
     "execution_count": 6,
     "metadata": {},
     "output_type": "execute_result"
    }
   ],
   "source": [
    "#tipos de variáveis\n",
    "df.dtypes"
   ]
  },
  {
   "cell_type": "code",
   "execution_count": 7,
   "id": "7b14acde-019b-423e-9053-b7c5a25c657b",
   "metadata": {},
   "outputs": [
    {
     "name": "stderr",
     "output_type": "stream",
     "text": [
      "<ipython-input-7-d283f6001ffd>:3: SettingWithCopyWarning: \n",
      "A value is trying to be set on a copy of a slice from a DataFrame.\n",
      "Try using .loc[row_indexer,col_indexer] = value instead\n",
      "\n",
      "See the caveats in the documentation: https://pandas.pydata.org/pandas-docs/stable/user_guide/indexing.html#returning-a-view-versus-a-copy\n",
      "  nova_tabela['count'] = 1\n"
     ]
    },
    {
     "data": {
      "text/html": [
       "<div>\n",
       "<style scoped>\n",
       "    .dataframe tbody tr th:only-of-type {\n",
       "        vertical-align: middle;\n",
       "    }\n",
       "\n",
       "    .dataframe tbody tr th {\n",
       "        vertical-align: top;\n",
       "    }\n",
       "\n",
       "    .dataframe thead th {\n",
       "        text-align: right;\n",
       "    }\n",
       "</style>\n",
       "<table border=\"1\" class=\"dataframe\">\n",
       "  <thead>\n",
       "    <tr style=\"text-align: right;\">\n",
       "      <th></th>\n",
       "      <th>merchant_id</th>\n",
       "      <th>card_number</th>\n",
       "      <th>transaction_date</th>\n",
       "      <th>week_day</th>\n",
       "      <th>transaction_amount</th>\n",
       "      <th>has_cbk</th>\n",
       "      <th>count</th>\n",
       "    </tr>\n",
       "  </thead>\n",
       "  <tbody>\n",
       "    <tr>\n",
       "      <th>0</th>\n",
       "      <td>29744</td>\n",
       "      <td>4345059116</td>\n",
       "      <td>2019-12-01 23:16:32.812632</td>\n",
       "      <td>Sunday</td>\n",
       "      <td>374.56</td>\n",
       "      <td>False</td>\n",
       "      <td>1</td>\n",
       "    </tr>\n",
       "    <tr>\n",
       "      <th>1</th>\n",
       "      <td>92895</td>\n",
       "      <td>4444564210</td>\n",
       "      <td>2019-12-01 22:45:37.873639</td>\n",
       "      <td>Sunday</td>\n",
       "      <td>734.87</td>\n",
       "      <td>True</td>\n",
       "      <td>1</td>\n",
       "    </tr>\n",
       "    <tr>\n",
       "      <th>2</th>\n",
       "      <td>47759</td>\n",
       "      <td>4258507024</td>\n",
       "      <td>2019-12-01 22:22:43.021495</td>\n",
       "      <td>Sunday</td>\n",
       "      <td>760.36</td>\n",
       "      <td>False</td>\n",
       "      <td>1</td>\n",
       "    </tr>\n",
       "    <tr>\n",
       "      <th>3</th>\n",
       "      <td>68657</td>\n",
       "      <td>4642963991</td>\n",
       "      <td>2019-12-01 21:59:19.797129</td>\n",
       "      <td>Sunday</td>\n",
       "      <td>2556.13</td>\n",
       "      <td>True</td>\n",
       "      <td>1</td>\n",
       "    </tr>\n",
       "    <tr>\n",
       "      <th>4</th>\n",
       "      <td>54075</td>\n",
       "      <td>6504876116</td>\n",
       "      <td>2019-12-01 21:30:53.347051</td>\n",
       "      <td>Sunday</td>\n",
       "      <td>55.36</td>\n",
       "      <td>False</td>\n",
       "      <td>1</td>\n",
       "    </tr>\n",
       "    <tr>\n",
       "      <th>...</th>\n",
       "      <td>...</td>\n",
       "      <td>...</td>\n",
       "      <td>...</td>\n",
       "      <td>...</td>\n",
       "      <td>...</td>\n",
       "      <td>...</td>\n",
       "      <td>...</td>\n",
       "    </tr>\n",
       "    <tr>\n",
       "      <th>3194</th>\n",
       "      <td>50493</td>\n",
       "      <td>6504864139</td>\n",
       "      <td>2019-11-01 13:05:34.054967</td>\n",
       "      <td>Friday</td>\n",
       "      <td>744.15</td>\n",
       "      <td>False</td>\n",
       "      <td>1</td>\n",
       "    </tr>\n",
       "    <tr>\n",
       "      <th>3195</th>\n",
       "      <td>9603</td>\n",
       "      <td>5280523611</td>\n",
       "      <td>2019-11-01 11:47:02.404963</td>\n",
       "      <td>Friday</td>\n",
       "      <td>1403.67</td>\n",
       "      <td>False</td>\n",
       "      <td>1</td>\n",
       "    </tr>\n",
       "    <tr>\n",
       "      <th>3196</th>\n",
       "      <td>57997</td>\n",
       "      <td>5226889874</td>\n",
       "      <td>2019-11-01 10:23:50.555604</td>\n",
       "      <td>Friday</td>\n",
       "      <td>1.55</td>\n",
       "      <td>False</td>\n",
       "      <td>1</td>\n",
       "    </tr>\n",
       "    <tr>\n",
       "      <th>3197</th>\n",
       "      <td>35930</td>\n",
       "      <td>5443157773</td>\n",
       "      <td>2019-11-01 01:29:45.799767</td>\n",
       "      <td>Friday</td>\n",
       "      <td>359.68</td>\n",
       "      <td>False</td>\n",
       "      <td>1</td>\n",
       "    </tr>\n",
       "    <tr>\n",
       "      <th>3198</th>\n",
       "      <td>17348</td>\n",
       "      <td>6504879884</td>\n",
       "      <td>2019-11-01 01:27:15.811098</td>\n",
       "      <td>Friday</td>\n",
       "      <td>2416.70</td>\n",
       "      <td>False</td>\n",
       "      <td>1</td>\n",
       "    </tr>\n",
       "  </tbody>\n",
       "</table>\n",
       "<p>3199 rows × 7 columns</p>\n",
       "</div>"
      ],
      "text/plain": [
       "      merchant_id card_number           transaction_date week_day  \\\n",
       "0           29744  4345059116 2019-12-01 23:16:32.812632   Sunday   \n",
       "1           92895  4444564210 2019-12-01 22:45:37.873639   Sunday   \n",
       "2           47759  4258507024 2019-12-01 22:22:43.021495   Sunday   \n",
       "3           68657  4642963991 2019-12-01 21:59:19.797129   Sunday   \n",
       "4           54075  6504876116 2019-12-01 21:30:53.347051   Sunday   \n",
       "...           ...         ...                        ...      ...   \n",
       "3194        50493  6504864139 2019-11-01 13:05:34.054967   Friday   \n",
       "3195         9603  5280523611 2019-11-01 11:47:02.404963   Friday   \n",
       "3196        57997  5226889874 2019-11-01 10:23:50.555604   Friday   \n",
       "3197        35930  5443157773 2019-11-01 01:29:45.799767   Friday   \n",
       "3198        17348  6504879884 2019-11-01 01:27:15.811098   Friday   \n",
       "\n",
       "      transaction_amount has_cbk  count  \n",
       "0                 374.56   False      1  \n",
       "1                 734.87    True      1  \n",
       "2                 760.36   False      1  \n",
       "3                2556.13    True      1  \n",
       "4                  55.36   False      1  \n",
       "...                  ...     ...    ...  \n",
       "3194              744.15   False      1  \n",
       "3195             1403.67   False      1  \n",
       "3196                1.55   False      1  \n",
       "3197              359.68   False      1  \n",
       "3198             2416.70   False      1  \n",
       "\n",
       "[3199 rows x 7 columns]"
      ]
     },
     "execution_count": 7,
     "metadata": {},
     "output_type": "execute_result"
    }
   ],
   "source": [
    "#criando tabela com colunas selecionadas\n",
    "nova_tabela = df[['merchant_id','card_number','transaction_date','week_day','transaction_amount','has_cbk']]\n",
    "nova_tabela['count'] = 1\n",
    "nova_tabela"
   ]
  },
  {
   "cell_type": "markdown",
   "id": "727b364d",
   "metadata": {},
   "source": [
    "# Análise exploratória\n",
    "- Tomada de decisão inicial para aprovação da transação a partir do hsitórico do cliente\n",
    "- Qual dia com maior chargeback?\n",
    "- Qual horário de maior chargeback?"
   ]
  },
  {
   "cell_type": "code",
   "execution_count": 10,
   "id": "92db2da9-c083-4c35-9e5f-4ab9d4179132",
   "metadata": {
    "jupyter": {
     "outputs_hidden": true
    },
    "tags": []
   },
   "outputs": [
    {
     "name": "stdout",
     "output_type": "stream",
     "text": [
      "Qual o código do cliente?92895\n",
      "Qual o número do cartão?4444564210\n",
      "Qual o valor da transação?2000\n"
     ]
    },
    {
     "data": {
      "text/html": [
       "<div>\n",
       "<style scoped>\n",
       "    .dataframe tbody tr th:only-of-type {\n",
       "        vertical-align: middle;\n",
       "    }\n",
       "\n",
       "    .dataframe tbody tr th {\n",
       "        vertical-align: top;\n",
       "    }\n",
       "\n",
       "    .dataframe thead th {\n",
       "        text-align: right;\n",
       "    }\n",
       "</style>\n",
       "<table border=\"1\" class=\"dataframe\">\n",
       "  <thead>\n",
       "    <tr style=\"text-align: right;\">\n",
       "      <th></th>\n",
       "      <th>merchant_id</th>\n",
       "      <th>card_number</th>\n",
       "      <th>transaction_date</th>\n",
       "      <th>week_day</th>\n",
       "      <th>transaction_amount</th>\n",
       "      <th>has_cbk</th>\n",
       "      <th>count</th>\n",
       "    </tr>\n",
       "  </thead>\n",
       "  <tbody>\n",
       "    <tr>\n",
       "      <th>1</th>\n",
       "      <td>92895</td>\n",
       "      <td>4444564210</td>\n",
       "      <td>2019-12-01 22:45:37.873639</td>\n",
       "      <td>Sunday</td>\n",
       "      <td>734.87</td>\n",
       "      <td>True</td>\n",
       "      <td>1</td>\n",
       "    </tr>\n",
       "  </tbody>\n",
       "</table>\n",
       "</div>"
      ],
      "text/plain": [
       "   merchant_id card_number           transaction_date week_day  \\\n",
       "1        92895  4444564210 2019-12-01 22:45:37.873639   Sunday   \n",
       "\n",
       "   transaction_amount has_cbk  count  \n",
       "1              734.87    True      1  "
      ]
     },
     "execution_count": 10,
     "metadata": {},
     "output_type": "execute_result"
    }
   ],
   "source": [
    "#código para filtrar cliente e número do cartão\n",
    "id_cliente = int(input('Qual o código do cliente?'))\n",
    "numero_cartao = str(input('Qual o número do cartão?'))\n",
    "valor_transacao = int(input('Qual o valor da transação?'))\n",
    "\n",
    "filtro_1 = nova_tabela.merchant_id == id_cliente\n",
    "filtro_2 = nova_tabela.has_cbk == 'True'\n",
    "#filtro_3 = nova_tabela.week_day == 'Friday'\n",
    "filtro_4 = nova_tabela.card_number == numero_cartao\n",
    "#filtro_5 = nova_tabela.transaction_date >= '16:00:00' \n",
    "filtro = nova_tabela.loc[filtro_1 & filtro_2 & filtro_4] \n",
    "filtro"
   ]
  },
  {
   "cell_type": "code",
   "execution_count": 11,
   "id": "f6c384c4-28cc-459d-87ab-cce462952a7e",
   "metadata": {},
   "outputs": [
    {
     "data": {
      "text/plain": [
       "merchant_id  card_number  has_cbk\n",
       "92895        4444564210   True       1\n",
       "dtype: int64"
      ]
     },
     "execution_count": 11,
     "metadata": {},
     "output_type": "execute_result"
    }
   ],
   "source": [
    "#numero de tentativas com o mesmo cartão\n",
    "filtro.groupby(['merchant_id','card_number','has_cbk']).size().sort_values(ascending=False)"
   ]
  },
  {
   "cell_type": "code",
   "execution_count": 12,
   "id": "e1f3e5b8-1979-45a0-b3f5-2a1de1887108",
   "metadata": {},
   "outputs": [
    {
     "name": "stdout",
     "output_type": "stream",
     "text": [
      "O Valor total das transações recusadas por este cliente é: 734.87 \n",
      " O Valor médio das transações recusadas deste cliente é: 734.87 \n",
      " O Valor máximo das transações recusadas por este cliente é: 734.87\n"
     ]
    }
   ],
   "source": [
    "#comparação de compras passadas do cliente com a transação atual\n",
    "valor_total = filtro['transaction_amount'].sum()\n",
    "valor_medio = filtro['transaction_amount'].mean()\n",
    "valor_max = filtro['transaction_amount'].max()\n",
    "print('O Valor total das transações recusadas por este cliente é:', valor_total,\n",
    "      '\\n O Valor médio das transações recusadas deste cliente é:', valor_medio,\n",
    "     '\\n O Valor máximo das transações recusadas por este cliente é:', valor_max)"
   ]
  },
  {
   "cell_type": "code",
   "execution_count": 13,
   "id": "6b5662d1-671c-4309-8bf6-9e3f56de963f",
   "metadata": {},
   "outputs": [
    {
     "name": "stdout",
     "output_type": "stream",
     "text": [
      "O Valor da transação é maior do que o valor máximo das transações anteriores, ATENÇÃO!\n"
     ]
    }
   ],
   "source": [
    "#Criando alerta de uma tomada de decisão inicial\n",
    "if (valor_transacao>valor_max):\n",
    "    print('O Valor da transação é maior do que o valor máximo das transações anteriores, ATENÇÃO!')\n",
    "elif (valor_transacao==valor_max):\n",
    "    print('O Valor da transação é igual ao valor máximo das transações anteriores, ATENÇÃO!')\n",
    "else:\n",
    "    print('O Valor da transação atual é menor do que o valor máximo das transações anteriores!')\n",
    "    \n",
    "    \n",
    "    "
   ]
  },
  {
   "cell_type": "code",
   "execution_count": 14,
   "id": "9a251ce4-f4ee-4435-b475-3826bd157972",
   "metadata": {},
   "outputs": [
    {
     "data": {
      "text/plain": [
       "merchant_id  card_number  has_cbk\n",
       "77130        5544827640   True       10\n",
       "30121        5201327705   False       5\n",
       "93520        4329577262   False       5\n",
       "89943        6516532256   True        5\n",
       "36929        6516603628   False       4\n",
       "                                     ..\n",
       "32186        5447315751   False       1\n",
       "             5502097657   False       1\n",
       "32213        5502095404   False       1\n",
       "             5502096493   False       1\n",
       "99799        4108636554   False       1\n",
       "Length: 2970, dtype: int64"
      ]
     },
     "execution_count": 14,
     "metadata": {},
     "output_type": "execute_result"
    }
   ],
   "source": [
    "#classificação dos dados\n",
    "nova_tabela.groupby(['merchant_id','card_number','has_cbk']).size().sort_values(ascending=False)"
   ]
  },
  {
   "cell_type": "code",
   "execution_count": 19,
   "id": "d5d829ec-de71-4134-a1b0-c436c560fb6b",
   "metadata": {},
   "outputs": [
    {
     "data": {
      "text/plain": [
       "merchant_id  has_cbk\n",
       "17275        True       22\n",
       "4705         True       19\n",
       "1308         True       15\n",
       "53041        True       14\n",
       "77130        True       13\n",
       "                        ..\n",
       "38901        True        1\n",
       "29744        True        1\n",
       "25473        True        1\n",
       "25199        True        1\n",
       "99644        True        1\n",
       "Length: 118, dtype: int64"
      ]
     },
     "execution_count": 19,
     "metadata": {},
     "output_type": "execute_result"
    }
   ],
   "source": [
    "#calculando os clientes que mais acumulam transações falsas\n",
    "f2 = nova_tabela.merchant_id == 49205\n",
    "f3 = nova_tabela.has_cbk == 'True'\n",
    "fa = nova_tabela.loc[f3] \n",
    "fb = nova_tabela.loc[f2 & f3] \n",
    "fa.groupby(['merchant_id','has_cbk']).size().sort_values(ascending=False)"
   ]
  },
  {
   "cell_type": "code",
   "execution_count": 20,
   "id": "5633be18-c117-45c9-8117-c974b6d9f84f",
   "metadata": {},
   "outputs": [
    {
     "data": {
      "text/plain": [
       "card_number  has_cbk\n",
       "5544827640   True       10\n",
       "5300343859   True        6\n",
       "6516532256   True        5\n",
       "5522898870   True        4\n",
       "5300348258   True        4\n",
       "                        ..\n",
       "4984011451   True        1\n",
       "4984012440   True        1\n",
       "4984014043   True        1\n",
       "4984014982   True        1\n",
       "5155904661   True        1\n",
       "Length: 274, dtype: int64"
      ]
     },
     "execution_count": 20,
     "metadata": {},
     "output_type": "execute_result"
    }
   ],
   "source": [
    "#cartão com mais tentativa falsa\n",
    "q1 = nova_tabela.has_cbk == 'True'\n",
    "q = nova_tabela.loc[q1] \n",
    "q.groupby(['card_number','has_cbk']).size().sort_values(ascending=False)"
   ]
  },
  {
   "cell_type": "code",
   "execution_count": 21,
   "id": "0400c987-4bed-4145-86c8-ae433abdb190",
   "metadata": {},
   "outputs": [
    {
     "data": {
      "text/plain": [
       "84"
      ]
     },
     "execution_count": 21,
     "metadata": {},
     "output_type": "execute_result"
    }
   ],
   "source": [
    "#número de clientes que já tiveram ao menos uma tentativa falsa\n",
    "v = nova_tabela.drop_duplicates(subset='merchant_id', keep=\"last\")\n",
    "fv1 = v.has_cbk == 'True'\n",
    "fv2 = v.loc[fv1] \n",
    "sum_v = fv2['count'].sum()\n",
    "sum_v"
   ]
  },
  {
   "cell_type": "code",
   "execution_count": 22,
   "id": "af4f10b4-3195-4a4e-9496-3ef636f212bb",
   "metadata": {},
   "outputs": [
    {
     "data": {
      "text/plain": [
       "4.783599088838269"
      ]
     },
     "execution_count": 22,
     "metadata": {},
     "output_type": "execute_result"
    }
   ],
   "source": [
    "#porcentagem de clientes que já tiveram alguma transação falsa\n",
    "sum_tot = v['count'].sum()\n",
    "sum_tot\n",
    "p_tot = (sum_v/sum_tot)*100\n",
    "p_tot"
   ]
  },
  {
   "cell_type": "code",
   "execution_count": 23,
   "id": "b3388c2c-b10c-401e-8519-60cd3fcf88d6",
   "metadata": {},
   "outputs": [
    {
     "data": {
      "text/plain": [
       "268"
      ]
     },
     "execution_count": 23,
     "metadata": {},
     "output_type": "execute_result"
    }
   ],
   "source": [
    "#número de cartões que já tiveram uma tentativa falsa\n",
    "w = nova_tabela.drop_duplicates(subset='card_number', keep=\"last\")\n",
    "fw1 = w.has_cbk == 'True'\n",
    "fw2 = w.loc[fw1] \n",
    "#sum_v = fv2['count'].sum()\n",
    "#sum_v\n",
    "sum_w = fw2['count'].sum()\n",
    "sum_w"
   ]
  },
  {
   "cell_type": "code",
   "execution_count": 24,
   "id": "c9c80007-562c-48cf-a9bf-7e4ff1c28dba",
   "metadata": {},
   "outputs": [
    {
     "data": {
      "text/plain": [
       "2456233.48"
      ]
     },
     "execution_count": 24,
     "metadata": {},
     "output_type": "execute_result"
    }
   ],
   "source": [
    "#valor total de transações\n",
    "vt = nova_tabela['transaction_amount'].sum()\n",
    "vt"
   ]
  },
  {
   "cell_type": "code",
   "execution_count": 25,
   "id": "6146f226-a8ca-45e4-8650-a81d8bfb9a60",
   "metadata": {},
   "outputs": [
    {
     "data": {
      "text/plain": [
       "3199"
      ]
     },
     "execution_count": 25,
     "metadata": {},
     "output_type": "execute_result"
    }
   ],
   "source": [
    "#total de transações \n",
    "tt = nova_tabela['count'].sum()\n",
    "tt"
   ]
  },
  {
   "cell_type": "code",
   "execution_count": 26,
   "id": "79fedcdd-07c4-4052-bd80-a217d865c89f",
   "metadata": {},
   "outputs": [
    {
     "data": {
      "text/plain": [
       "568346.62"
      ]
     },
     "execution_count": 26,
     "metadata": {},
     "output_type": "execute_result"
    }
   ],
   "source": [
    "#calculando o total em valores reais de transações falsas \n",
    "f1 = nova_tabela.has_cbk == 'True'\n",
    "f = nova_tabela.loc[f1] \n",
    "valor_tot = f['transaction_amount'].sum()\n",
    "valor_tot"
   ]
  },
  {
   "cell_type": "code",
   "execution_count": 27,
   "id": "99d9f7f0-c6c9-427f-87ae-98509bfc081e",
   "metadata": {},
   "outputs": [],
   "source": [
    "#separar transações por dias da semana\n",
    "nova_tabela_true = nova_tabela.loc[nova_tabela.has_cbk == 'True']\n",
    "day_1 = nova_tabela_true.loc[nova_tabela.week_day == 'Sunday']\n",
    "day_2 = nova_tabela_true.loc[nova_tabela.week_day == 'Monday']\n",
    "day_3 = nova_tabela_true.loc[nova_tabela.week_day == 'Tuesday']\n",
    "day_4 = nova_tabela_true.loc[nova_tabela.week_day == 'Wednesday']\n",
    "day_5 = nova_tabela_true.loc[nova_tabela.week_day == 'Thursday']\n",
    "day_6 = nova_tabela_true.loc[nova_tabela.week_day == 'Friday']\n",
    "day_7 = nova_tabela_true.loc[nova_tabela.week_day == 'Saturday']\n",
    "\n",
    "c = ['Sunday','Monday','Tuesday','Wednesday', 'Thursday', 'Friday', 'Saturday']\n",
    "a = [day_1['count'].sum(), day_2['count'].sum(), day_3['count'].sum(), day_4['count'].sum(), day_5['count'].sum(), day_6['count'].sum(), day_7['count'].sum()]\n",
    "b =  [day_1['transaction_amount'].sum(), day_2['transaction_amount'].sum(), day_3['transaction_amount'].sum(), day_4['transaction_amount'].sum(), day_5['transaction_amount'].sum(), day_6['transaction_amount'].sum(), day_7['transaction_amount'].sum()]\n",
    "\n"
   ]
  },
  {
   "cell_type": "code",
   "execution_count": 28,
   "id": "97e521e5-0bba-4a47-9230-2d18be849060",
   "metadata": {},
   "outputs": [
    {
     "data": {
      "image/png": "[encoded data removed]",
      "text/plain": [
       "<Figure size 720x360 with 1 Axes>"
      ]
     },
     "metadata": {},
     "output_type": "display_data"
    }
   ],
   "source": [
    "#valor total de transações por dias da semana\n",
    "plt.figure(figsize=(10,5))\n",
    "plt.bar(c,b)\n",
    "plt.ylabel(\"Transaction amount\")\n",
    "plt.show()"
   ]
  },
  {
   "cell_type": "code",
   "execution_count": 29,
   "id": "0fd6c4b6-c7c0-4e01-9bdd-49945f5619da",
   "metadata": {},
   "outputs": [
    {
     "data": {
      "image/png": "[encoded data removed]",
      "text/plain": [
       "<Figure size 720x360 with 1 Axes>"
      ]
     },
     "metadata": {},
     "output_type": "display_data"
    }
   ],
   "source": [
    "#numeros de transações por dia da semana\n",
    "plt.figure(figsize=(10,5))\n",
    "plt.bar(c,a)\n",
    "plt.ylabel(\"Fraud transactions\")\n",
    "plt.show()"
   ]
  },
  {
   "attachments": {},
   "cell_type": "markdown",
   "id": "06545c1f",
   "metadata": {},
   "source": [
    "# Conclusão\n",
    "\n",
    "- Período de análise: 01/11/2019 à 01/12/2019\n",
    "- Total de transações solicitadas: 3199\n",
    "- Valor total movimentado:  2.456.233,48 \n",
    "- Valor total de chargeback: 568.346,62 (23,14%)\n",
    "- Clientes que já tiveram ao menos um chargeback: 4,78%\n",
    "- Sexta, sábado e quinta-feira são os dias com maior número de chargeback respectivamente.\n",
    "- Clientes 17275, 4705 e 1308 possuem os maiores índices de chargeback\n",
    "- Os cartões 5544827640, 5300343859 e 6516532256 possuem os maiores índices de chargeback."
   ]
  }
 ],
 "metadata": {
  "kernelspec": {
   "display_name": "Python 3",
   "language": "python",
   "name": "python3"
  },
  "language_info": {
   "codemirror_mode": {
    "name": "ipython",
    "version": 3
   },
   "file_extension": ".py",
   "mimetype": "text/x-python",
   "name": "python",
   "nbconvert_exporter": "python",
   "pygments_lexer": "ipython3",
   "version": "3.8.8"
  }
 },
 "nbformat": 4,
 "nbformat_minor": 5
}
